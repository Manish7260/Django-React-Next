{
 "cells": [
  {
   "cell_type": "code",
   "execution_count": 1,
   "id": "efb439cb",
   "metadata": {},
   "outputs": [],
   "source": [
    "import re"
   ]
  },
  {
   "cell_type": "code",
   "execution_count": 19,
   "id": "e867c383",
   "metadata": {},
   "outputs": [],
   "source": [
    "chat1 = 'codebasics: you ask lot of questions 😠  1235678912, abc@xyz.com'\n",
    "chat2 = 'codebasics: here it is: (123)-567-8912 , abc_123@xyz.com'\n",
    "chat3 = 'codebasics: yes, phone: 1235678912 email: abc@xyz.com'"
   ]
  },
  {
   "cell_type": "code",
   "execution_count": 20,
   "id": "6883fad3",
   "metadata": {},
   "outputs": [
    {
     "name": "stdout",
     "output_type": "stream",
     "text": [
      "['1235678912']\n",
      "['(123)-567-8912']\n",
      "['1235678912']\n"
     ]
    }
   ],
   "source": [
    "pattern = '\\d{10}|\\(\\d{3}\\)-\\d{3}-\\d{4}'\n",
    "\n",
    "getted_characters = re.findall(pattern, chat1)\n",
    "print(getted_characters)\n",
    "getted_characters = re.findall(pattern, chat2)\n",
    "print(getted_characters)\n",
    "getted_characters = re.findall(pattern, chat3)\n",
    "print(getted_characters)"
   ]
  },
  {
   "cell_type": "code",
   "execution_count": 21,
   "id": "8eb9ee36",
   "metadata": {},
   "outputs": [
    {
     "data": {
      "text/plain": [
       "['1235678912']"
      ]
     },
     "execution_count": 21,
     "metadata": {},
     "output_type": "execute_result"
    }
   ],
   "source": [
    "getted_characters"
   ]
  },
  {
   "cell_type": "code",
   "execution_count": 22,
   "id": "e12b1617",
   "metadata": {},
   "outputs": [
    {
     "name": "stdout",
     "output_type": "stream",
     "text": [
      "['abc@xyz.com']\n",
      "['abc_123@xyz.com']\n",
      "['abc@xyz.com']\n"
     ]
    }
   ],
   "source": [
    "emial_match = '[a-z0-9A-Z_]*@[a-z0-9A-Z]*\\.com'\n",
    "getted_characters = re.findall(emial_match, chat1)\n",
    "print(getted_characters)\n",
    "getted_characters = re.findall(emial_match, chat2)\n",
    "print(getted_characters)\n",
    "getted_characters = re.findall(emial_match, chat3)\n",
    "print(getted_characters)"
   ]
  },
  {
   "cell_type": "code",
   "execution_count": 25,
   "id": "2f346b8c",
   "metadata": {},
   "outputs": [],
   "source": [
    "chat1='codebasics: Hello, I am having an issue with my order # 412889912'\n",
    "chat2='codebasics: I have a problem with my order number 12345789'\n",
    "chat3='codebasics: My order 412889912 is having an issue, I was charged 300$ when online it says 280$'"
   ]
  },
  {
   "cell_type": "code",
   "execution_count": 26,
   "id": "e06fa510",
   "metadata": {},
   "outputs": [
    {
     "name": "stdout",
     "output_type": "stream",
     "text": [
      "['412889912']\n",
      "['12345789']\n",
      "['412889912']\n"
     ]
    }
   ],
   "source": [
    "order_match = 'order[^\\d]*(\\d*)'\n",
    "getted_id = re.findall(order_match, chat1)\n",
    "print(getted_id)\n",
    "getted_id = re.findall(order_match, chat2)\n",
    "print(getted_id)\n",
    "getted_id = re.findall(order_match, chat3)\n",
    "print(getted_id)"
   ]
  },
  {
   "cell_type": "code",
   "execution_count": null,
   "id": "b12a3e2b",
   "metadata": {},
   "outputs": [],
   "source": []
  }
 ],
 "metadata": {
  "kernelspec": {
   "display_name": "Python 3 (ipykernel)",
   "language": "python",
   "name": "python3"
  },
  "language_info": {
   "codemirror_mode": {
    "name": "ipython",
    "version": 3
   },
   "file_extension": ".py",
   "mimetype": "text/x-python",
   "name": "python",
   "nbconvert_exporter": "python",
   "pygments_lexer": "ipython3",
   "version": "3.10.9"
  }
 },
 "nbformat": 4,
 "nbformat_minor": 5
}
