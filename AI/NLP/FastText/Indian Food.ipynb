{
 "cells": [
  {
   "cell_type": "code",
   "execution_count": 1,
   "id": "66dc63ff",
   "metadata": {},
   "outputs": [],
   "source": [
    "import fasttext"
   ]
  },
  {
   "cell_type": "code",
   "execution_count": 2,
   "id": "02ae7d24",
   "metadata": {},
   "outputs": [],
   "source": [
    "import pandas as pd"
   ]
  },
  {
   "cell_type": "code",
   "execution_count": 3,
   "id": "27804ee6",
   "metadata": {},
   "outputs": [],
   "source": [
    "dataset = pd.read_csv('Cleaned_Indian_Food_Dataset.csv')"
   ]
  },
  {
   "cell_type": "code",
   "execution_count": 4,
   "id": "8b84a09c",
   "metadata": {},
   "outputs": [
    {
     "data": {
      "text/plain": [
       "(5938, 9)"
      ]
     },
     "execution_count": 4,
     "metadata": {},
     "output_type": "execute_result"
    }
   ],
   "source": [
    "dataset.shape"
   ]
  },
  {
   "cell_type": "code",
   "execution_count": 5,
   "id": "34932248",
   "metadata": {},
   "outputs": [
    {
     "data": {
      "text/html": [
       "<div>\n",
       "<style scoped>\n",
       "    .dataframe tbody tr th:only-of-type {\n",
       "        vertical-align: middle;\n",
       "    }\n",
       "\n",
       "    .dataframe tbody tr th {\n",
       "        vertical-align: top;\n",
       "    }\n",
       "\n",
       "    .dataframe thead th {\n",
       "        text-align: right;\n",
       "    }\n",
       "</style>\n",
       "<table border=\"1\" class=\"dataframe\">\n",
       "  <thead>\n",
       "    <tr style=\"text-align: right;\">\n",
       "      <th></th>\n",
       "      <th>TranslatedRecipeName</th>\n",
       "      <th>TranslatedIngredients</th>\n",
       "      <th>TotalTimeInMins</th>\n",
       "      <th>Cuisine</th>\n",
       "      <th>TranslatedInstructions</th>\n",
       "      <th>URL</th>\n",
       "      <th>Cleaned-Ingredients</th>\n",
       "      <th>image-url</th>\n",
       "      <th>Ingredient-count</th>\n",
       "    </tr>\n",
       "  </thead>\n",
       "  <tbody>\n",
       "    <tr>\n",
       "      <th>0</th>\n",
       "      <td>Masala Karela Recipe</td>\n",
       "      <td>1 tablespoon Red Chilli powder,3 tablespoon Gr...</td>\n",
       "      <td>45</td>\n",
       "      <td>Indian</td>\n",
       "      <td>To begin making the Masala Karela Recipe,de-se...</td>\n",
       "      <td>https://www.archanaskitchen.com/masala-karela-...</td>\n",
       "      <td>salt,amchur (dry mango powder),karela (bitter ...</td>\n",
       "      <td>https://www.archanaskitchen.com/images/archana...</td>\n",
       "      <td>10</td>\n",
       "    </tr>\n",
       "    <tr>\n",
       "      <th>1</th>\n",
       "      <td>Spicy Tomato Rice (Recipe)</td>\n",
       "      <td>2 teaspoon cashew - or peanuts, 1/2 Teaspoon ...</td>\n",
       "      <td>15</td>\n",
       "      <td>South Indian Recipes</td>\n",
       "      <td>To make tomato puliogere, first cut the tomato...</td>\n",
       "      <td>https://www.archanaskitchen.com/spicy-tomato-r...</td>\n",
       "      <td>tomato,salt,chickpea lentils,green chilli,rice...</td>\n",
       "      <td>https://www.archanaskitchen.com/images/archana...</td>\n",
       "      <td>12</td>\n",
       "    </tr>\n",
       "    <tr>\n",
       "      <th>2</th>\n",
       "      <td>Ragi Semiya Upma Recipe - Ragi Millet Vermicel...</td>\n",
       "      <td>1 Onion - sliced,1 teaspoon White Urad Dal (Sp...</td>\n",
       "      <td>50</td>\n",
       "      <td>South Indian Recipes</td>\n",
       "      <td>To begin making the Ragi Vermicelli Recipe, fi...</td>\n",
       "      <td>https://www.archanaskitchen.com/ragi-vermicell...</td>\n",
       "      <td>salt,rice vermicelli noodles (thin),asafoetida...</td>\n",
       "      <td>https://www.archanaskitchen.com/images/archana...</td>\n",
       "      <td>12</td>\n",
       "    </tr>\n",
       "    <tr>\n",
       "      <th>3</th>\n",
       "      <td>Gongura Chicken Curry Recipe - Andhra Style Go...</td>\n",
       "      <td>1/2 teaspoon Turmeric powder (Haldi),1 tablesp...</td>\n",
       "      <td>45</td>\n",
       "      <td>Andhra</td>\n",
       "      <td>To begin making Gongura Chicken Curry Recipe f...</td>\n",
       "      <td>https://www.archanaskitchen.com/gongura-chicke...</td>\n",
       "      <td>tomato,salt,ginger,sorrel leaves (gongura),fen...</td>\n",
       "      <td>https://www.archanaskitchen.com/images/archana...</td>\n",
       "      <td>15</td>\n",
       "    </tr>\n",
       "    <tr>\n",
       "      <th>4</th>\n",
       "      <td>Andhra Style Alam Pachadi Recipe - Adrak Chutn...</td>\n",
       "      <td>oil - as per use, 1 tablespoon coriander seed...</td>\n",
       "      <td>30</td>\n",
       "      <td>Andhra</td>\n",
       "      <td>To make Andhra Style Alam Pachadi, first heat ...</td>\n",
       "      <td>https://www.archanaskitchen.com/andhra-style-a...</td>\n",
       "      <td>tomato,salt,ginger,red chillies,curry,asafoeti...</td>\n",
       "      <td>https://www.archanaskitchen.com/images/archana...</td>\n",
       "      <td>12</td>\n",
       "    </tr>\n",
       "  </tbody>\n",
       "</table>\n",
       "</div>"
      ],
      "text/plain": [
       "                                TranslatedRecipeName  \\\n",
       "0                               Masala Karela Recipe   \n",
       "1                         Spicy Tomato Rice (Recipe)   \n",
       "2  Ragi Semiya Upma Recipe - Ragi Millet Vermicel...   \n",
       "3  Gongura Chicken Curry Recipe - Andhra Style Go...   \n",
       "4  Andhra Style Alam Pachadi Recipe - Adrak Chutn...   \n",
       "\n",
       "                               TranslatedIngredients  TotalTimeInMins  \\\n",
       "0  1 tablespoon Red Chilli powder,3 tablespoon Gr...               45   \n",
       "1   2 teaspoon cashew - or peanuts, 1/2 Teaspoon ...               15   \n",
       "2  1 Onion - sliced,1 teaspoon White Urad Dal (Sp...               50   \n",
       "3  1/2 teaspoon Turmeric powder (Haldi),1 tablesp...               45   \n",
       "4   oil - as per use, 1 tablespoon coriander seed...               30   \n",
       "\n",
       "                Cuisine                             TranslatedInstructions  \\\n",
       "0                Indian  To begin making the Masala Karela Recipe,de-se...   \n",
       "1  South Indian Recipes  To make tomato puliogere, first cut the tomato...   \n",
       "2  South Indian Recipes  To begin making the Ragi Vermicelli Recipe, fi...   \n",
       "3                Andhra  To begin making Gongura Chicken Curry Recipe f...   \n",
       "4                Andhra  To make Andhra Style Alam Pachadi, first heat ...   \n",
       "\n",
       "                                                 URL  \\\n",
       "0  https://www.archanaskitchen.com/masala-karela-...   \n",
       "1  https://www.archanaskitchen.com/spicy-tomato-r...   \n",
       "2  https://www.archanaskitchen.com/ragi-vermicell...   \n",
       "3  https://www.archanaskitchen.com/gongura-chicke...   \n",
       "4  https://www.archanaskitchen.com/andhra-style-a...   \n",
       "\n",
       "                                 Cleaned-Ingredients  \\\n",
       "0  salt,amchur (dry mango powder),karela (bitter ...   \n",
       "1  tomato,salt,chickpea lentils,green chilli,rice...   \n",
       "2  salt,rice vermicelli noodles (thin),asafoetida...   \n",
       "3  tomato,salt,ginger,sorrel leaves (gongura),fen...   \n",
       "4  tomato,salt,ginger,red chillies,curry,asafoeti...   \n",
       "\n",
       "                                           image-url  Ingredient-count  \n",
       "0  https://www.archanaskitchen.com/images/archana...                10  \n",
       "1  https://www.archanaskitchen.com/images/archana...                12  \n",
       "2  https://www.archanaskitchen.com/images/archana...                12  \n",
       "3  https://www.archanaskitchen.com/images/archana...                15  \n",
       "4  https://www.archanaskitchen.com/images/archana...                12  "
      ]
     },
     "execution_count": 5,
     "metadata": {},
     "output_type": "execute_result"
    }
   ],
   "source": [
    "dataset.head()"
   ]
  },
  {
   "cell_type": "code",
   "execution_count": 6,
   "id": "67c05fe7",
   "metadata": {},
   "outputs": [
    {
     "data": {
      "text/plain": [
       "'To begin making the Masala Karela Recipe,de-seed the karela and slice.\\nDo not remove the skin as the skin has all the nutrients.\\nAdd the karela to the pressure cooker with 3 tablespoon of water, salt and turmeric powder and pressure cook for three whistles.\\nRelease the pressure immediately and open the lids.\\nKeep aside.Heat oil in a heavy bottomed pan or a kadhai.\\nAdd cumin seeds and let it sizzle.Once the cumin seeds have sizzled, add onions and saute them till it turns golden brown in color.Add the karela, red chilli powder, amchur powder, coriander powder and besan.\\nStir to combine the masalas into the karela.Drizzle a little extra oil on the top and mix again.\\nCover the pan and simmer Masala Karela stirring occasionally until everything comes together well.\\nTurn off the heat.Transfer Masala Karela into a serving bowl and serve.Serve Masala Karela along with Panchmel Dal and Phulka for a weekday meal with your family.\\n'"
      ]
     },
     "execution_count": 6,
     "metadata": {},
     "output_type": "execute_result"
    }
   ],
   "source": [
    "dataset.TranslatedInstructions[0]"
   ]
  },
  {
   "cell_type": "code",
   "execution_count": 7,
   "id": "9e1a9f6a",
   "metadata": {},
   "outputs": [
    {
     "data": {
      "text/plain": [
       "'To begin making the Masala Karela Recipe de seed the karela and slice \\nDo not remove the skin as the skin has all the nutrients \\nAdd the karela to the pressure cooker with 3 tablespoon of water  salt and turmeric powder and pressure cook for three whistles \\nRelease the pressure immediately and open the lids \\nKeep aside Heat oil in a heavy bottomed pan or a kadhai \\nAdd cumin seeds and let it sizzle Once the cumin seeds have sizzled  add onions and saute them till it turns golden brown in color Add the karela  red chilli powder  amchur powder  coriander powder and besan \\nStir to combine the masalas into the karela Drizzle a little extra oil on the top and mix again \\nCover the pan and simmer Masala Karela stirring occasionally until everything comes together well \\nTurn off the heat Transfer Masala Karela into a serving bowl and serve Serve Masala Karela along with Panchmel Dal and Phulka for a weekday meal with your family \\n'"
      ]
     },
     "execution_count": 7,
     "metadata": {},
     "output_type": "execute_result"
    }
   ],
   "source": [
    "import re\n",
    "\n",
    "text = 'To begin making the Masala Karela Recipe,de-seed the karela and slice.\\nDo not remove the skin as the skin has all the nutrients.\\nAdd the karela to the pressure cooker with 3 tablespoon of water, salt and turmeric powder and pressure cook for three whistles.\\nRelease the pressure immediately and open the lids.\\nKeep aside.Heat oil in a heavy bottomed pan or a kadhai.\\nAdd cumin seeds and let it sizzle.Once the cumin seeds have sizzled, add onions and saute them till it turns golden brown in color.Add the karela, red chilli powder, amchur powder, coriander powder and besan.\\nStir to combine the masalas into the karela.Drizzle a little extra oil on the top and mix again.\\nCover the pan and simmer Masala Karela stirring occasionally until everything comes together well.\\nTurn off the heat.Transfer Masala Karela into a serving bowl and serve.Serve Masala Karela along with Panchmel Dal and Phulka for a weekday meal with your family.\\n'\n",
    "\n",
    "re.sub(r\"[^\\w\\s]\", \" \", text, flags=re.MULTILINE)"
   ]
  },
  {
   "cell_type": "code",
   "execution_count": 8,
   "id": "b5633440",
   "metadata": {},
   "outputs": [],
   "source": [
    "def preprocess(text):\n",
    "    text = re.sub(r\"[^\\w\\s]\", \" \", text)\n",
    "    text = re.sub(r\"[  \\n]\",\" \", text)\n",
    "    return text.strip().lower()"
   ]
  },
  {
   "cell_type": "code",
   "execution_count": 9,
   "id": "39f2b203",
   "metadata": {},
   "outputs": [
    {
     "data": {
      "text/plain": [
       "'to begin making the masala karela recipe de seed the karela and slice  do not remove the skin as the skin has all the nutrients  add the karela to the pressure cooker with 3 tablespoon of water  salt and turmeric powder and pressure cook for three whistles  release the pressure immediately and open the lids  keep aside heat oil in a heavy bottomed pan or a kadhai  add cumin seeds and let it sizzle once the cumin seeds have sizzled  add onions and saute them till it turns golden brown in color add the karela  red chilli powder  amchur powder  coriander powder and besan  stir to combine the masalas into the karela drizzle a little extra oil on the top and mix again  cover the pan and simmer masala karela stirring occasionally until everything comes together well  turn off the heat transfer masala karela into a serving bowl and serve serve masala karela along with panchmel dal and phulka for a weekday meal with your family'"
      ]
     },
     "execution_count": 9,
     "metadata": {},
     "output_type": "execute_result"
    }
   ],
   "source": [
    "preprocess(text)"
   ]
  },
  {
   "cell_type": "code",
   "execution_count": 10,
   "id": "f1169f9f",
   "metadata": {},
   "outputs": [],
   "source": [
    "dataset.TranslatedInstructions = dataset.TranslatedInstructions.map(preprocess)"
   ]
  },
  {
   "cell_type": "code",
   "execution_count": 11,
   "id": "45599551",
   "metadata": {},
   "outputs": [
    {
     "data": {
      "text/html": [
       "<div>\n",
       "<style scoped>\n",
       "    .dataframe tbody tr th:only-of-type {\n",
       "        vertical-align: middle;\n",
       "    }\n",
       "\n",
       "    .dataframe tbody tr th {\n",
       "        vertical-align: top;\n",
       "    }\n",
       "\n",
       "    .dataframe thead th {\n",
       "        text-align: right;\n",
       "    }\n",
       "</style>\n",
       "<table border=\"1\" class=\"dataframe\">\n",
       "  <thead>\n",
       "    <tr style=\"text-align: right;\">\n",
       "      <th></th>\n",
       "      <th>TranslatedRecipeName</th>\n",
       "      <th>TranslatedIngredients</th>\n",
       "      <th>TotalTimeInMins</th>\n",
       "      <th>Cuisine</th>\n",
       "      <th>TranslatedInstructions</th>\n",
       "      <th>URL</th>\n",
       "      <th>Cleaned-Ingredients</th>\n",
       "      <th>image-url</th>\n",
       "      <th>Ingredient-count</th>\n",
       "    </tr>\n",
       "  </thead>\n",
       "  <tbody>\n",
       "    <tr>\n",
       "      <th>0</th>\n",
       "      <td>Masala Karela Recipe</td>\n",
       "      <td>1 tablespoon Red Chilli powder,3 tablespoon Gr...</td>\n",
       "      <td>45</td>\n",
       "      <td>Indian</td>\n",
       "      <td>to begin making the masala karela recipe de se...</td>\n",
       "      <td>https://www.archanaskitchen.com/masala-karela-...</td>\n",
       "      <td>salt,amchur (dry mango powder),karela (bitter ...</td>\n",
       "      <td>https://www.archanaskitchen.com/images/archana...</td>\n",
       "      <td>10</td>\n",
       "    </tr>\n",
       "    <tr>\n",
       "      <th>1</th>\n",
       "      <td>Spicy Tomato Rice (Recipe)</td>\n",
       "      <td>2 teaspoon cashew - or peanuts, 1/2 Teaspoon ...</td>\n",
       "      <td>15</td>\n",
       "      <td>South Indian Recipes</td>\n",
       "      <td>to make tomato puliogere  first cut the tomato...</td>\n",
       "      <td>https://www.archanaskitchen.com/spicy-tomato-r...</td>\n",
       "      <td>tomato,salt,chickpea lentils,green chilli,rice...</td>\n",
       "      <td>https://www.archanaskitchen.com/images/archana...</td>\n",
       "      <td>12</td>\n",
       "    </tr>\n",
       "    <tr>\n",
       "      <th>2</th>\n",
       "      <td>Ragi Semiya Upma Recipe - Ragi Millet Vermicel...</td>\n",
       "      <td>1 Onion - sliced,1 teaspoon White Urad Dal (Sp...</td>\n",
       "      <td>50</td>\n",
       "      <td>South Indian Recipes</td>\n",
       "      <td>to begin making the ragi vermicelli recipe  fi...</td>\n",
       "      <td>https://www.archanaskitchen.com/ragi-vermicell...</td>\n",
       "      <td>salt,rice vermicelli noodles (thin),asafoetida...</td>\n",
       "      <td>https://www.archanaskitchen.com/images/archana...</td>\n",
       "      <td>12</td>\n",
       "    </tr>\n",
       "    <tr>\n",
       "      <th>3</th>\n",
       "      <td>Gongura Chicken Curry Recipe - Andhra Style Go...</td>\n",
       "      <td>1/2 teaspoon Turmeric powder (Haldi),1 tablesp...</td>\n",
       "      <td>45</td>\n",
       "      <td>Andhra</td>\n",
       "      <td>to begin making gongura chicken curry recipe f...</td>\n",
       "      <td>https://www.archanaskitchen.com/gongura-chicke...</td>\n",
       "      <td>tomato,salt,ginger,sorrel leaves (gongura),fen...</td>\n",
       "      <td>https://www.archanaskitchen.com/images/archana...</td>\n",
       "      <td>15</td>\n",
       "    </tr>\n",
       "    <tr>\n",
       "      <th>4</th>\n",
       "      <td>Andhra Style Alam Pachadi Recipe - Adrak Chutn...</td>\n",
       "      <td>oil - as per use, 1 tablespoon coriander seed...</td>\n",
       "      <td>30</td>\n",
       "      <td>Andhra</td>\n",
       "      <td>to make andhra style alam pachadi  first heat ...</td>\n",
       "      <td>https://www.archanaskitchen.com/andhra-style-a...</td>\n",
       "      <td>tomato,salt,ginger,red chillies,curry,asafoeti...</td>\n",
       "      <td>https://www.archanaskitchen.com/images/archana...</td>\n",
       "      <td>12</td>\n",
       "    </tr>\n",
       "    <tr>\n",
       "      <th>...</th>\n",
       "      <td>...</td>\n",
       "      <td>...</td>\n",
       "      <td>...</td>\n",
       "      <td>...</td>\n",
       "      <td>...</td>\n",
       "      <td>...</td>\n",
       "      <td>...</td>\n",
       "      <td>...</td>\n",
       "      <td>...</td>\n",
       "    </tr>\n",
       "    <tr>\n",
       "      <th>5933</th>\n",
       "      <td>Saffron Paneer Peda Recipe</td>\n",
       "      <td>2 teaspoons Rose water,1/2 teaspoon Ghee,2 cup...</td>\n",
       "      <td>20</td>\n",
       "      <td>Indian</td>\n",
       "      <td>to begin making the saffron paneer peda recipe...</td>\n",
       "      <td>https://www.archanaskitchen.com/saffron-paneer...</td>\n",
       "      <td>saffron strands generous,ghee,paneer,rose wate...</td>\n",
       "      <td>https://www.archanaskitchen.com/images/archana...</td>\n",
       "      <td>7</td>\n",
       "    </tr>\n",
       "    <tr>\n",
       "      <th>5934</th>\n",
       "      <td>Italian Arancini Rice Balls Recipe With Delici...</td>\n",
       "      <td>4 sprig Basil leaves - finely chopped,2 cups W...</td>\n",
       "      <td>100</td>\n",
       "      <td>Italian Recipes</td>\n",
       "      <td>to begin making the italian arancini rice ball...</td>\n",
       "      <td>https://www.archanaskitchen.com/italian-aranci...</td>\n",
       "      <td>salt,gorgonzola cheese cubes,wheat bread crumb...</td>\n",
       "      <td>https://www.archanaskitchen.com/images/archana...</td>\n",
       "      <td>14</td>\n",
       "    </tr>\n",
       "    <tr>\n",
       "      <th>5935</th>\n",
       "      <td>Quinoa Phirnee Recipe (Quinoa Milk Pudding)</td>\n",
       "      <td>3/4 cup Sugar,2 cup Milk - vegans can substitu...</td>\n",
       "      <td>35</td>\n",
       "      <td>Indian</td>\n",
       "      <td>to begin making quinoa phirnee recipe  place a...</td>\n",
       "      <td>https://www.archanaskitchen.com/quinoa-phirnee...</td>\n",
       "      <td>ghee,milk,saffron strands,sugar,cardamom powde...</td>\n",
       "      <td>https://www.archanaskitchen.com/images/archana...</td>\n",
       "      <td>8</td>\n",
       "    </tr>\n",
       "    <tr>\n",
       "      <th>5936</th>\n",
       "      <td>Ullikadala Pulusu Recipe | Spring Onion Curry</td>\n",
       "      <td>1 pinch Turmeric powder (Haldi),1/2 teaspoon M...</td>\n",
       "      <td>15</td>\n",
       "      <td>Andhra</td>\n",
       "      <td>to begin making ullikadala pulusu recipe   spr...</td>\n",
       "      <td>https://www.archanaskitchen.com/ullikadala-pul...</td>\n",
       "      <td>salt,tamarind water,mustard seeds,asafoetida (...</td>\n",
       "      <td>https://www.archanaskitchen.com/images/archana...</td>\n",
       "      <td>13</td>\n",
       "    </tr>\n",
       "    <tr>\n",
       "      <th>5937</th>\n",
       "      <td>Kashmiri Style Kokur Yakhni Recipe-Chicken Coo...</td>\n",
       "      <td>Salt - as required,3 to 4 Cloves (Laung),Ghee ...</td>\n",
       "      <td>75</td>\n",
       "      <td>Kashmiri</td>\n",
       "      <td>to begin making the kashmiri kokur yakhni reci...</td>\n",
       "      <td>https://www.archanaskitchen.com/kashmiri-kokur...</td>\n",
       "      <td>black cardamom (badi elaichi),salt,mustard oil...</td>\n",
       "      <td>https://www.archanaskitchen.com/images/archana...</td>\n",
       "      <td>13</td>\n",
       "    </tr>\n",
       "  </tbody>\n",
       "</table>\n",
       "<p>5938 rows × 9 columns</p>\n",
       "</div>"
      ],
      "text/plain": [
       "                                   TranslatedRecipeName  \\\n",
       "0                                  Masala Karela Recipe   \n",
       "1                            Spicy Tomato Rice (Recipe)   \n",
       "2     Ragi Semiya Upma Recipe - Ragi Millet Vermicel...   \n",
       "3     Gongura Chicken Curry Recipe - Andhra Style Go...   \n",
       "4     Andhra Style Alam Pachadi Recipe - Adrak Chutn...   \n",
       "...                                                 ...   \n",
       "5933                         Saffron Paneer Peda Recipe   \n",
       "5934  Italian Arancini Rice Balls Recipe With Delici...   \n",
       "5935        Quinoa Phirnee Recipe (Quinoa Milk Pudding)   \n",
       "5936      Ullikadala Pulusu Recipe | Spring Onion Curry   \n",
       "5937  Kashmiri Style Kokur Yakhni Recipe-Chicken Coo...   \n",
       "\n",
       "                                  TranslatedIngredients  TotalTimeInMins  \\\n",
       "0     1 tablespoon Red Chilli powder,3 tablespoon Gr...               45   \n",
       "1      2 teaspoon cashew - or peanuts, 1/2 Teaspoon ...               15   \n",
       "2     1 Onion - sliced,1 teaspoon White Urad Dal (Sp...               50   \n",
       "3     1/2 teaspoon Turmeric powder (Haldi),1 tablesp...               45   \n",
       "4      oil - as per use, 1 tablespoon coriander seed...               30   \n",
       "...                                                 ...              ...   \n",
       "5933  2 teaspoons Rose water,1/2 teaspoon Ghee,2 cup...               20   \n",
       "5934  4 sprig Basil leaves - finely chopped,2 cups W...              100   \n",
       "5935  3/4 cup Sugar,2 cup Milk - vegans can substitu...               35   \n",
       "5936  1 pinch Turmeric powder (Haldi),1/2 teaspoon M...               15   \n",
       "5937  Salt - as required,3 to 4 Cloves (Laung),Ghee ...               75   \n",
       "\n",
       "                   Cuisine                             TranslatedInstructions  \\\n",
       "0                   Indian  to begin making the masala karela recipe de se...   \n",
       "1     South Indian Recipes  to make tomato puliogere  first cut the tomato...   \n",
       "2     South Indian Recipes  to begin making the ragi vermicelli recipe  fi...   \n",
       "3                   Andhra  to begin making gongura chicken curry recipe f...   \n",
       "4                   Andhra  to make andhra style alam pachadi  first heat ...   \n",
       "...                    ...                                                ...   \n",
       "5933                Indian  to begin making the saffron paneer peda recipe...   \n",
       "5934       Italian Recipes  to begin making the italian arancini rice ball...   \n",
       "5935                Indian  to begin making quinoa phirnee recipe  place a...   \n",
       "5936                Andhra  to begin making ullikadala pulusu recipe   spr...   \n",
       "5937              Kashmiri  to begin making the kashmiri kokur yakhni reci...   \n",
       "\n",
       "                                                    URL  \\\n",
       "0     https://www.archanaskitchen.com/masala-karela-...   \n",
       "1     https://www.archanaskitchen.com/spicy-tomato-r...   \n",
       "2     https://www.archanaskitchen.com/ragi-vermicell...   \n",
       "3     https://www.archanaskitchen.com/gongura-chicke...   \n",
       "4     https://www.archanaskitchen.com/andhra-style-a...   \n",
       "...                                                 ...   \n",
       "5933  https://www.archanaskitchen.com/saffron-paneer...   \n",
       "5934  https://www.archanaskitchen.com/italian-aranci...   \n",
       "5935  https://www.archanaskitchen.com/quinoa-phirnee...   \n",
       "5936  https://www.archanaskitchen.com/ullikadala-pul...   \n",
       "5937  https://www.archanaskitchen.com/kashmiri-kokur...   \n",
       "\n",
       "                                    Cleaned-Ingredients  \\\n",
       "0     salt,amchur (dry mango powder),karela (bitter ...   \n",
       "1     tomato,salt,chickpea lentils,green chilli,rice...   \n",
       "2     salt,rice vermicelli noodles (thin),asafoetida...   \n",
       "3     tomato,salt,ginger,sorrel leaves (gongura),fen...   \n",
       "4     tomato,salt,ginger,red chillies,curry,asafoeti...   \n",
       "...                                                 ...   \n",
       "5933  saffron strands generous,ghee,paneer,rose wate...   \n",
       "5934  salt,gorgonzola cheese cubes,wheat bread crumb...   \n",
       "5935  ghee,milk,saffron strands,sugar,cardamom powde...   \n",
       "5936  salt,tamarind water,mustard seeds,asafoetida (...   \n",
       "5937  black cardamom (badi elaichi),salt,mustard oil...   \n",
       "\n",
       "                                              image-url  Ingredient-count  \n",
       "0     https://www.archanaskitchen.com/images/archana...                10  \n",
       "1     https://www.archanaskitchen.com/images/archana...                12  \n",
       "2     https://www.archanaskitchen.com/images/archana...                12  \n",
       "3     https://www.archanaskitchen.com/images/archana...                15  \n",
       "4     https://www.archanaskitchen.com/images/archana...                12  \n",
       "...                                                 ...               ...  \n",
       "5933  https://www.archanaskitchen.com/images/archana...                 7  \n",
       "5934  https://www.archanaskitchen.com/images/archana...                14  \n",
       "5935  https://www.archanaskitchen.com/images/archana...                 8  \n",
       "5936  https://www.archanaskitchen.com/images/archana...                13  \n",
       "5937  https://www.archanaskitchen.com/images/archana...                13  \n",
       "\n",
       "[5938 rows x 9 columns]"
      ]
     },
     "execution_count": 11,
     "metadata": {},
     "output_type": "execute_result"
    }
   ],
   "source": [
    "dataset"
   ]
  },
  {
   "cell_type": "code",
   "execution_count": 12,
   "id": "db651f6b",
   "metadata": {},
   "outputs": [
    {
     "data": {
      "text/plain": [
       "'to begin making the masala karela recipe de seed the karela and slice  do not remove the skin as the skin has all the nutrients  add the karela to the pressure cooker with 3 tablespoon of water  salt and turmeric powder and pressure cook for three whistles  release the pressure immediately and open the lids  keep aside heat oil in a heavy bottomed pan or a kadhai  add cumin seeds and let it sizzle once the cumin seeds have sizzled  add onions and saute them till it turns golden brown in color add the karela  red chilli powder  amchur powder  coriander powder and besan  stir to combine the masalas into the karela drizzle a little extra oil on the top and mix again  cover the pan and simmer masala karela stirring occasionally until everything comes together well  turn off the heat transfer masala karela into a serving bowl and serve serve masala karela along with panchmel dal and phulka for a weekday meal with your family'"
      ]
     },
     "execution_count": 12,
     "metadata": {},
     "output_type": "execute_result"
    }
   ],
   "source": [
    "dataset.TranslatedInstructions[0]"
   ]
  },
  {
   "cell_type": "code",
   "execution_count": 13,
   "id": "dd6917d4",
   "metadata": {},
   "outputs": [],
   "source": [
    "dataset.to_csv(\"food_receipes.txt\", columns=[\"TranslatedInstructions\"], header=None, index=False)"
   ]
  },
  {
   "cell_type": "code",
   "execution_count": 14,
   "id": "d1557269",
   "metadata": {},
   "outputs": [],
   "source": [
    "import fasttext"
   ]
  },
  {
   "cell_type": "code",
   "execution_count": 15,
   "id": "2b74acde",
   "metadata": {},
   "outputs": [
    {
     "name": "stderr",
     "output_type": "stream",
     "text": [
      "Read 1M words\n",
      "Number of words:  4578\n",
      "Number of labels: 0\n",
      "Progress: 100.0% words/sec/thread:   75950 lr:  0.000000 avg.loss:  2.201960 ETA:   0h 0m 0s\n"
     ]
    }
   ],
   "source": [
    "model = fasttext.train_unsupervised('food_receipes.txt')"
   ]
  },
  {
   "cell_type": "code",
   "execution_count": 16,
   "id": "5b4bb6e7",
   "metadata": {},
   "outputs": [
    {
     "data": {
      "text/plain": [
       "[(0.6841989159584045, 'bhurji'),\n",
       " (0.6080144643783569, 'tandoori'),\n",
       " (0.6053761839866638, 'tikka'),\n",
       " (0.5894041657447815, 'shashlik'),\n",
       " (0.578545093536377, 'kulcha'),\n",
       " (0.5747111439704895, 'tikkas'),\n",
       " (0.5705221891403198, 'makhanwala'),\n",
       " (0.5650457739830017, 'gulgule'),\n",
       " (0.5590240359306335, 'satay'),\n",
       " (0.5580112934112549, 'burji')]"
      ]
     },
     "execution_count": 16,
     "metadata": {},
     "output_type": "execute_result"
    }
   ],
   "source": [
    "model.get_nearest_neighbors('paneer')"
   ]
  },
  {
   "cell_type": "code",
   "execution_count": 17,
   "id": "3813024b",
   "metadata": {},
   "outputs": [
    {
     "data": {
      "text/plain": [
       "[(0.9388825297355652, 'chutneys'),\n",
       " (0.7146592140197754, 'imli'),\n",
       " (0.6953231692314148, 'khajur'),\n",
       " (0.6939144134521484, 'dhaniya'),\n",
       " (0.6592483520507812, 'pudi'),\n",
       " (0.6543395519256592, 'south'),\n",
       " (0.6527164578437805, 'kadale'),\n",
       " (0.6458580493927002, 'pudina'),\n",
       " (0.6360651254653931, 'kumbakonam'),\n",
       " (0.632446825504303, 'ratalu')]"
      ]
     },
     "execution_count": 17,
     "metadata": {},
     "output_type": "execute_result"
    }
   ],
   "source": [
    "model.get_nearest_neighbors('chutney')"
   ]
  },
  {
   "cell_type": "code",
   "execution_count": 18,
   "id": "c4a55c41",
   "metadata": {},
   "outputs": [
    {
     "data": {
      "text/plain": [
       "[(0.8588107228279114, 'dosai'),\n",
       " (0.8368449211120605, 'dosas'),\n",
       " (0.7724066972732544, 'uttapam'),\n",
       " (0.7168577909469604, 'dose'),\n",
       " (0.7134892344474792, 'uthappam'),\n",
       " (0.6910713911056519, 'unniyappam'),\n",
       " (0.6758669018745422, 'nei'),\n",
       " (0.6752744913101196, 'pesarattu'),\n",
       " (0.6732484102249146, 'neer'),\n",
       " (0.6695029139518738, 'idli')]"
      ]
     },
     "execution_count": 18,
     "metadata": {},
     "output_type": "execute_result"
    }
   ],
   "source": [
    "model.get_nearest_neighbors('dosa')"
   ]
  },
  {
   "cell_type": "code",
   "execution_count": 19,
   "id": "af956e7a",
   "metadata": {},
   "outputs": [
    {
     "data": {
      "text/plain": [
       "[(0.8430429100990295, 'khichia'),\n",
       " (0.8369100093841553, 'khichu'),\n",
       " (0.8356812000274658, 'khadi'),\n",
       " (0.8308603763580322, 'pachdi'),\n",
       " (0.8161723017692566, 'khichdi'),\n",
       " (0.8003385663032532, 'thalicha'),\n",
       " (0.7991767525672913, 'koki'),\n",
       " (0.7975485324859619, 'khichuri'),\n",
       " (0.7931492328643799, 'moolangi'),\n",
       " (0.7919736504554749, 'tovve')]"
      ]
     },
     "execution_count": 19,
     "metadata": {},
     "output_type": "execute_result"
    }
   ],
   "source": [
    "model.get_nearest_neighbors('khichadi')"
   ]
  },
  {
   "cell_type": "code",
   "execution_count": 20,
   "id": "4aea7c7a",
   "metadata": {},
   "outputs": [
    {
     "data": {
      "text/plain": [
       "[(0.8768765926361084, 'vada'),\n",
       " (0.8375853300094604, 'vadai'),\n",
       " (0.7869338393211365, 'vade'),\n",
       " (0.7686355710029602, 'vadu'),\n",
       " (0.7570540904998779, 'vadas'),\n",
       " (0.740700364112854, 'vadam'),\n",
       " (0.7100925445556641, 'valsadi'),\n",
       " (0.7041097283363342, 'vadi'),\n",
       " (0.6683446764945984, 'vali'),\n",
       " (0.6633605360984802, 'upittu')]"
      ]
     },
     "execution_count": 20,
     "metadata": {},
     "output_type": "execute_result"
    }
   ],
   "source": [
    "model.get_nearest_neighbors('vadapav')"
   ]
  },
  {
   "cell_type": "code",
   "execution_count": 21,
   "id": "3d166847",
   "metadata": {},
   "outputs": [
    {
     "data": {
      "text/plain": [
       "[(0.8398863673210144, 'breads'),\n",
       " (0.6414549350738525, 'focaccia'),\n",
       " (0.6366056203842163, 'shortbread'),\n",
       " (0.6360856294631958, 'breadcrumb'),\n",
       " (0.6325634121894836, 'breadcrumbs'),\n",
       " (0.6278988122940063, 'toasts'),\n",
       " (0.6249446868896484, 'pinwheels'),\n",
       " (0.6245713233947754, 'gingerbread'),\n",
       " (0.6201702356338501, 'herbed'),\n",
       " (0.6196775436401367, 'subway')]"
      ]
     },
     "execution_count": 21,
     "metadata": {},
     "output_type": "execute_result"
    }
   ],
   "source": [
    "model.get_nearest_neighbors('bread')"
   ]
  },
  {
   "cell_type": "code",
   "execution_count": 22,
   "id": "3a54ed9c",
   "metadata": {},
   "outputs": [
    {
     "data": {
      "text/plain": [
       "[(0.7502323985099792, 'khoya'),\n",
       " (0.714087963104248, 'burfi'),\n",
       " (0.7096459269523621, 'badam'),\n",
       " (0.7078538537025452, 'rabri'),\n",
       " (0.6957865357398987, 'mohan'),\n",
       " (0.6630595922470093, 'mawa'),\n",
       " (0.6623386144638062, 'bhog'),\n",
       " (0.6618617177009583, 'sheera'),\n",
       " (0.6519209146499634, 'sooji'),\n",
       " (0.6330593824386597, 'phirni')]"
      ]
     },
     "execution_count": 22,
     "metadata": {},
     "output_type": "execute_result"
    }
   ],
   "source": [
    "model.get_nearest_neighbors('halwa')"
   ]
  },
  {
   "cell_type": "code",
   "execution_count": 23,
   "id": "475f5dd6",
   "metadata": {},
   "outputs": [
    {
     "data": {
      "text/plain": [
       "[(0.9132672548294067, 'bhaji'),\n",
       " (0.8629941344261169, 'bharli'),\n",
       " (0.8491540551185608, 'bhaja'),\n",
       " (0.8427906632423401, 'bhat'),\n",
       " (0.8292626738548279, 'bhogichi'),\n",
       " (0.827566921710968, 'bhey'),\n",
       " (0.8186295032501221, 'bhaat'),\n",
       " (0.8141263127326965, 'maskachi'),\n",
       " (0.8126425743103027, 'bhatt'),\n",
       " (0.8053677678108215, 'bhuga')]"
      ]
     },
     "execution_count": 23,
     "metadata": {},
     "output_type": "execute_result"
    }
   ],
   "source": [
    "model.get_nearest_neighbors('bhajiya')"
   ]
  },
  {
   "cell_type": "code",
   "execution_count": 24,
   "id": "04d816dc",
   "metadata": {},
   "outputs": [
    {
     "data": {
      "text/plain": [
       "[(0.7179230451583862, 'sprouted'),\n",
       " (0.7077168822288513, 'sprout'),\n",
       " (0.7036856412887573, 'mooga'),\n",
       " (0.6925570964813232, 'moongphali'),\n",
       " (0.669934093952179, 'dal'),\n",
       " (0.6659762263298035, 'sprouts'),\n",
       " (0.655846357345581, 'moth'),\n",
       " (0.6440125107765198, 'sookhi'),\n",
       " (0.6402913331985474, 'moolangi'),\n",
       " (0.6301063299179077, 'vagharela')]"
      ]
     },
     "execution_count": 24,
     "metadata": {},
     "output_type": "execute_result"
    }
   ],
   "source": [
    "model.get_nearest_neighbors('moong')"
   ]
  },
  {
   "cell_type": "code",
   "execution_count": 25,
   "id": "d4ad03cf",
   "metadata": {},
   "outputs": [
    {
     "data": {
      "text/plain": [
       "[(0.8399485945701599, 'saragva'),\n",
       " (0.8372057676315308, 'saru'),\n",
       " (0.8307827711105347, 'aava'),\n",
       " (0.8302649855613708, 'ulava'),\n",
       " (0.8145987391471863, 'saagu'),\n",
       " (0.8118790984153748, 'sabbasige'),\n",
       " (0.7983177900314331, 'sabsige'),\n",
       " (0.7908421754837036, 'mulakushyam'),\n",
       " (0.7898776531219482, 'hesaru'),\n",
       " (0.7778676152229309, 'kothavarangai')]"
      ]
     },
     "execution_count": 25,
     "metadata": {},
     "output_type": "execute_result"
    }
   ],
   "source": [
    "model.get_nearest_neighbors('sargava')"
   ]
  },
  {
   "cell_type": "code",
   "execution_count": 26,
   "id": "2c7f0fa9",
   "metadata": {},
   "outputs": [
    {
     "data": {
      "text/plain": [
       "[(0.7330653071403503, 'potatoes'),\n",
       " (0.6121319532394409, 'sweet'),\n",
       " (0.5904901623725891, 'jalapeno'),\n",
       " (0.5690515041351318, 'peas'),\n",
       " (0.5659152865409851, 'arrowroot'),\n",
       " (0.5644763112068176, 'jalapeños'),\n",
       " (0.5592148303985596, 'chikki'),\n",
       " (0.5571585297584534, 'bulgur'),\n",
       " (0.5532462000846863, 'avocado'),\n",
       " (0.5408379435539246, 'bombs')]"
      ]
     },
     "execution_count": 26,
     "metadata": {},
     "output_type": "execute_result"
    }
   ],
   "source": [
    "model.get_nearest_neighbors('potato')"
   ]
  },
  {
   "cell_type": "code",
   "execution_count": 27,
   "id": "6fba8f59",
   "metadata": {},
   "outputs": [
    {
     "data": {
      "text/plain": [
       "[(0.9391496777534485, 'pakodas'),\n",
       " (0.9274501204490662, 'pakodi'),\n",
       " (0.9249348044395447, 'pakode'),\n",
       " (0.8693798184394836, 'pakora'),\n",
       " (0.8460251688957214, 'pakoras'),\n",
       " (0.7936535477638245, 'pak'),\n",
       " (0.748275876045227, 'paka'),\n",
       " (0.737101674079895, 'bonda'),\n",
       " (0.7145208716392517, 'punugulu'),\n",
       " (0.7046500444412231, 'bhajji')]"
      ]
     },
     "execution_count": 27,
     "metadata": {},
     "output_type": "execute_result"
    }
   ],
   "source": [
    "model.get_nearest_neighbors('pakoda')"
   ]
  },
  {
   "cell_type": "code",
   "execution_count": null,
   "id": "fbc1b510",
   "metadata": {},
   "outputs": [],
   "source": []
  }
 ],
 "metadata": {
  "kernelspec": {
   "display_name": "Python 3 (ipykernel)",
   "language": "python",
   "name": "python3"
  },
  "language_info": {
   "codemirror_mode": {
    "name": "ipython",
    "version": 3
   },
   "file_extension": ".py",
   "mimetype": "text/x-python",
   "name": "python",
   "nbconvert_exporter": "python",
   "pygments_lexer": "ipython3",
   "version": "3.10.9"
  }
 },
 "nbformat": 4,
 "nbformat_minor": 5
}
