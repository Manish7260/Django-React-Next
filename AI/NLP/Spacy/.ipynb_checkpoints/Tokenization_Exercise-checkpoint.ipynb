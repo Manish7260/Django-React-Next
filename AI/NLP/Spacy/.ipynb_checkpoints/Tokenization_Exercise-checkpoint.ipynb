{
 "cells": [
  {
   "cell_type": "code",
   "execution_count": 1,
   "id": "6d4c5296",
   "metadata": {},
   "outputs": [],
   "source": [
    "import spacy"
   ]
  },
  {
   "cell_type": "code",
   "execution_count": 2,
   "id": "00f2f993",
   "metadata": {},
   "outputs": [],
   "source": [
    "text='''\n",
    "Look for data to help you address the question. Governments are good\n",
    "sources because data from public research is often freely available. Good\n",
    "places to start include http://www.data.gov/, and http://www.science.\n",
    "gov/, and in the United Kingdom, http://data.gov.uk/.\n",
    "Two of my favorite data sets are the General Social Survey at http://www3.norc.org/gss+website/, \n",
    "and the European Social Survey at http://www.europeansocialsurvey.org/.\n",
    "'''"
   ]
  },
  {
   "cell_type": "code",
   "execution_count": 3,
   "id": "e2e8de48",
   "metadata": {},
   "outputs": [],
   "source": [
    "nlp = spacy.blank('en')"
   ]
  },
  {
   "cell_type": "code",
   "execution_count": 4,
   "id": "57055b45",
   "metadata": {},
   "outputs": [],
   "source": [
    "doc = nlp(text)"
   ]
  },
  {
   "cell_type": "code",
   "execution_count": 5,
   "id": "e5b7015e",
   "metadata": {},
   "outputs": [
    {
     "data": {
      "text/plain": [
       "\n",
       "Look for data to help you address the question. Governments are good\n",
       "sources because data from public research is often freely available. Good\n",
       "places to start include http://www.data.gov/, and http://www.science.\n",
       "gov/, and in the United Kingdom, http://data.gov.uk/.\n",
       "Two of my favorite data sets are the General Social Survey at http://www3.norc.org/gss+website/, \n",
       "and the European Social Survey at http://www.europeansocialsurvey.org/."
      ]
     },
     "execution_count": 5,
     "metadata": {},
     "output_type": "execute_result"
    }
   ],
   "source": [
    "doc"
   ]
  },
  {
   "cell_type": "code",
   "execution_count": 6,
   "id": "b6ea2ca4",
   "metadata": {},
   "outputs": [
    {
     "name": "stdout",
     "output_type": "stream",
     "text": [
      "\n",
      "\n",
      "Look\n",
      "for\n",
      "data\n",
      "to\n",
      "help\n",
      "you\n",
      "address\n",
      "the\n",
      "question\n",
      ".\n",
      "Governments\n",
      "are\n",
      "good\n",
      "\n",
      "\n",
      "sources\n",
      "because\n",
      "data\n",
      "from\n",
      "public\n",
      "research\n",
      "is\n",
      "often\n",
      "freely\n",
      "available\n",
      ".\n",
      "Good\n",
      "\n",
      "\n",
      "places\n",
      "to\n",
      "start\n",
      "include\n",
      "http://www.data.gov/\n",
      ",\n",
      "and\n",
      "http://www.science\n",
      ".\n",
      "\n",
      "\n",
      "gov/\n",
      ",\n",
      "and\n",
      "in\n",
      "the\n",
      "United\n",
      "Kingdom\n",
      ",\n",
      "http://data.gov.uk/.\n",
      "\n",
      "\n",
      "Two\n",
      "of\n",
      "my\n",
      "favorite\n",
      "data\n",
      "sets\n",
      "are\n",
      "the\n",
      "General\n",
      "Social\n",
      "Survey\n",
      "at\n",
      "http://www3.norc.org/gss+website/\n",
      ",\n",
      "\n",
      "\n",
      "and\n",
      "the\n",
      "European\n",
      "Social\n",
      "Survey\n",
      "at\n",
      "http://www.europeansocialsurvey.org/.\n",
      "\n",
      "\n"
     ]
    }
   ],
   "source": [
    "for token in doc:\n",
    "    print(token)"
   ]
  },
  {
   "cell_type": "code",
   "execution_count": 7,
   "id": "2be494cd",
   "metadata": {},
   "outputs": [
    {
     "name": "stdout",
     "output_type": "stream",
     "text": [
      "http://www.data.gov/\n",
      "http://www.science\n",
      "http://data.gov.uk/.\n",
      "http://www3.norc.org/gss+website/\n",
      "http://www.europeansocialsurvey.org/.\n"
     ]
    }
   ],
   "source": [
    "for token in doc:\n",
    "    if token.like_url:\n",
    "        print(token.text)"
   ]
  },
  {
   "cell_type": "code",
   "execution_count": 8,
   "id": "fc267890",
   "metadata": {},
   "outputs": [],
   "source": [
    "#Second exercise\n",
    "\n",
    "transactions = \"Tony gave two $ to Peter, Bruce gave 500 € to Steve\""
   ]
  },
  {
   "cell_type": "code",
   "execution_count": 9,
   "id": "309a324d",
   "metadata": {},
   "outputs": [],
   "source": [
    "doc = nlp(transactions)"
   ]
  },
  {
   "cell_type": "code",
   "execution_count": 10,
   "id": "106d3a2f",
   "metadata": {},
   "outputs": [
    {
     "data": {
      "text/plain": [
       "Tony gave two $ to Peter, Bruce gave 500 € to Steve"
      ]
     },
     "execution_count": 10,
     "metadata": {},
     "output_type": "execute_result"
    }
   ],
   "source": [
    "doc"
   ]
  },
  {
   "cell_type": "code",
   "execution_count": 11,
   "id": "4ae9c290",
   "metadata": {},
   "outputs": [
    {
     "name": "stdout",
     "output_type": "stream",
     "text": [
      "Tony\n",
      "gave\n",
      "two\n",
      "$\n",
      "to\n",
      "Peter\n",
      ",\n",
      "Bruce\n",
      "gave\n",
      "500\n",
      "€\n",
      "to\n",
      "Steve\n"
     ]
    }
   ],
   "source": [
    "for token in doc:\n",
    "    print(token)"
   ]
  },
  {
   "cell_type": "code",
   "execution_count": 16,
   "id": "c3950604",
   "metadata": {},
   "outputs": [
    {
     "name": "stdout",
     "output_type": "stream",
     "text": [
      "two $\n",
      "500 €\n"
     ]
    }
   ],
   "source": [
    "for token in doc:\n",
    "    if token.like_num and doc[token.i+1].is_currency:\n",
    "        print(token.text, doc[token.i+1].text)"
   ]
  },
  {
   "cell_type": "code",
   "execution_count": null,
   "id": "a7629447",
   "metadata": {},
   "outputs": [],
   "source": []
  }
 ],
 "metadata": {
  "kernelspec": {
   "display_name": "Python 3 (ipykernel)",
   "language": "python",
   "name": "python3"
  },
  "language_info": {
   "codemirror_mode": {
    "name": "ipython",
    "version": 3
   },
   "file_extension": ".py",
   "mimetype": "text/x-python",
   "name": "python",
   "nbconvert_exporter": "python",
   "pygments_lexer": "ipython3",
   "version": "3.10.9"
  }
 },
 "nbformat": 4,
 "nbformat_minor": 5
}
